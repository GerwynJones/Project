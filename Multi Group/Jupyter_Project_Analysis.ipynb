{
 "cells": [
  {
   "cell_type": "code",
   "execution_count": 1,
   "metadata": {
    "collapsed": false
   },
   "outputs": [
    {
     "ename": "KeyboardInterrupt",
     "evalue": "",
     "output_type": "error",
     "traceback": [
      "\u001b[0;31m---------------------------------------------------------------------------\u001b[0m",
      "\u001b[0;31mKeyboardInterrupt\u001b[0m                         Traceback (most recent call last)",
      "\u001b[0;32m<ipython-input-1-f6a23061a039>\u001b[0m in \u001b[0;36m<module>\u001b[0;34m()\u001b[0m\n\u001b[1;32m     10\u001b[0m \u001b[0;32mimport\u001b[0m \u001b[0mmatplotlib\u001b[0m\u001b[0;34m.\u001b[0m\u001b[0mpyplot\u001b[0m \u001b[0;32mas\u001b[0m \u001b[0mplt\u001b[0m\u001b[0;34m\u001b[0m\u001b[0m\n\u001b[1;32m     11\u001b[0m \u001b[0;34m\u001b[0m\u001b[0m\n\u001b[0;32m---> 12\u001b[0;31m \u001b[0;32mfrom\u001b[0m \u001b[0mVerlet_main_MG\u001b[0m \u001b[0;32mimport\u001b[0m \u001b[0;34m*\u001b[0m\u001b[0;34m\u001b[0m\u001b[0m\n\u001b[0m\u001b[1;32m     13\u001b[0m \u001b[0;34m\u001b[0m\u001b[0m\n\u001b[1;32m     14\u001b[0m \u001b[0mplt\u001b[0m\u001b[0;34m.\u001b[0m\u001b[0mclose\u001b[0m\u001b[0;34m(\u001b[0m\u001b[0;34m'all'\u001b[0m\u001b[0;34m)\u001b[0m\u001b[0;34m\u001b[0m\u001b[0m\n",
      "\u001b[0;32m/home/gerwyn/Documents/Project/Multi Group/Verlet_main_MG.py\u001b[0m in \u001b[0;36m<module>\u001b[0;34m()\u001b[0m\n\u001b[1;32m     82\u001b[0m     \u001b[0;34m\"Verlet Method\"\u001b[0m\u001b[0;34m\u001b[0m\u001b[0m\n\u001b[1;32m     83\u001b[0m \u001b[0;34m\u001b[0m\u001b[0m\n\u001b[0;32m---> 84\u001b[0;31m     \u001b[0moPos\u001b[0m \u001b[0;34m=\u001b[0m \u001b[0mPos\u001b[0m\u001b[0;34m;\u001b[0m \u001b[0moVel\u001b[0m \u001b[0;34m=\u001b[0m \u001b[0mVel\u001b[0m\u001b[0;34m\u001b[0m\u001b[0m\n\u001b[0m\u001b[1;32m     85\u001b[0m \u001b[0;34m\u001b[0m\u001b[0m\n\u001b[1;32m     86\u001b[0m     \u001b[0mPos\u001b[0m \u001b[0;34m=\u001b[0m \u001b[0mVerp\u001b[0m\u001b[0;34m(\u001b[0m\u001b[0moVel\u001b[0m\u001b[0;34m,\u001b[0m \u001b[0moPos\u001b[0m\u001b[0;34m,\u001b[0m \u001b[0mdt_grav\u001b[0m\u001b[0;34m,\u001b[0m \u001b[0macc\u001b[0m\u001b[0;34m)\u001b[0m\u001b[0;34m\u001b[0m\u001b[0m\n",
      "\u001b[0;32m/home/gerwyn/Documents/Project/Multi Group/Verlet_main_MG.py\u001b[0m in \u001b[0;36mVerv\u001b[0;34m(Pos, Mass, oVel, dt, acc, e)\u001b[0m\n\u001b[1;32m     23\u001b[0m \u001b[0;32mdef\u001b[0m \u001b[0mVerv\u001b[0m\u001b[0;34m(\u001b[0m\u001b[0mPos\u001b[0m\u001b[0;34m,\u001b[0m \u001b[0mMass\u001b[0m\u001b[0;34m,\u001b[0m \u001b[0moVel\u001b[0m\u001b[0;34m,\u001b[0m \u001b[0mdt\u001b[0m\u001b[0;34m,\u001b[0m \u001b[0macc\u001b[0m\u001b[0;34m,\u001b[0m \u001b[0me\u001b[0m\u001b[0;34m)\u001b[0m\u001b[0;34m:\u001b[0m\u001b[0;34m\u001b[0m\u001b[0m\n\u001b[1;32m     24\u001b[0m      \u001b[0;34m\"Velocities:\"\u001b[0m\u001b[0;34m\u001b[0m\u001b[0m\n\u001b[0;32m---> 25\u001b[0;31m      \u001b[0manew\u001b[0m\u001b[0;34m,\u001b[0m \u001b[0mpe\u001b[0m \u001b[0;34m=\u001b[0m \u001b[0mAcc\u001b[0m\u001b[0;34m(\u001b[0m\u001b[0mPos\u001b[0m\u001b[0;34m,\u001b[0m \u001b[0mMass\u001b[0m\u001b[0;34m,\u001b[0m \u001b[0moVel\u001b[0m\u001b[0;34m,\u001b[0m \u001b[0me\u001b[0m\u001b[0;34m)\u001b[0m\u001b[0;34m\u001b[0m\u001b[0m\n\u001b[0m\u001b[1;32m     26\u001b[0m      \u001b[0mVel\u001b[0m \u001b[0;34m=\u001b[0m \u001b[0moVel\u001b[0m \u001b[0;34m+\u001b[0m \u001b[0;36m.5\u001b[0m\u001b[0;34m*\u001b[0m\u001b[0;34m(\u001b[0m\u001b[0macc\u001b[0m \u001b[0;34m+\u001b[0m \u001b[0manew\u001b[0m\u001b[0;34m)\u001b[0m\u001b[0;34m*\u001b[0m\u001b[0mdt\u001b[0m\u001b[0;34m\u001b[0m\u001b[0m\n\u001b[1;32m     27\u001b[0m      \u001b[0;32mreturn\u001b[0m \u001b[0mVel\u001b[0m\u001b[0;34m\u001b[0m\u001b[0m\n",
      "\u001b[0;32m/home/gerwyn/Documents/Project/Multi Group/Verlet_main_MG.py\u001b[0m in \u001b[0;36mAcc\u001b[0;34m(Pos, Mass, Vel, e)\u001b[0m\n\u001b[1;32m     38\u001b[0m \u001b[0;34m\u001b[0m\u001b[0m\n\u001b[1;32m     39\u001b[0m             \u001b[0mr\u001b[0m \u001b[0;34m=\u001b[0m \u001b[0mPos\u001b[0m\u001b[0;34m[\u001b[0m\u001b[0mi\u001b[0m\u001b[0;34m]\u001b[0m \u001b[0;34m-\u001b[0m \u001b[0mPos\u001b[0m\u001b[0;34m[\u001b[0m\u001b[0mj\u001b[0m\u001b[0;34m]\u001b[0m\u001b[0;34m\u001b[0m\u001b[0m\n\u001b[0;32m---> 40\u001b[0;31m             \u001b[0mm\u001b[0m \u001b[0;34m=\u001b[0m \u001b[0mLA\u001b[0m\u001b[0;34m.\u001b[0m\u001b[0mnorm\u001b[0m\u001b[0;34m(\u001b[0m\u001b[0mr\u001b[0m\u001b[0;34m)\u001b[0m\u001b[0;34m\u001b[0m\u001b[0m\n\u001b[0m\u001b[1;32m     41\u001b[0m             \u001b[0mF\u001b[0m \u001b[0;34m=\u001b[0m \u001b[0;34m(\u001b[0m\u001b[0mG\u001b[0m\u001b[0;34m/\u001b[0m\u001b[0;34m(\u001b[0m\u001b[0mm\u001b[0m\u001b[0;34m+\u001b[0m\u001b[0me\u001b[0m\u001b[0;34m)\u001b[0m\u001b[0;34m**\u001b[0m\u001b[0;36m3\u001b[0m\u001b[0;34m)\u001b[0m\u001b[0;34m*\u001b[0m\u001b[0mr\u001b[0m \u001b[0;31m# check (m+e) part\u001b[0m\u001b[0;34m\u001b[0m\u001b[0m\n\u001b[1;32m     42\u001b[0m \u001b[0;34m\u001b[0m\u001b[0m\n",
      "\u001b[0;32m/home/gerwyn/Documents/Anaconda/envs/py27/lib/python2.7/site-packages/numpy/linalg/linalg.pyc\u001b[0m in \u001b[0;36mnorm\u001b[0;34m(x, ord, axis, keepdims)\u001b[0m\n\u001b[1;32m   2127\u001b[0m                 \u001b[0msqnorm\u001b[0m \u001b[0;34m=\u001b[0m \u001b[0mdot\u001b[0m\u001b[0;34m(\u001b[0m\u001b[0mx\u001b[0m\u001b[0;34m.\u001b[0m\u001b[0mreal\u001b[0m\u001b[0;34m,\u001b[0m \u001b[0mx\u001b[0m\u001b[0;34m.\u001b[0m\u001b[0mreal\u001b[0m\u001b[0;34m)\u001b[0m \u001b[0;34m+\u001b[0m \u001b[0mdot\u001b[0m\u001b[0;34m(\u001b[0m\u001b[0mx\u001b[0m\u001b[0;34m.\u001b[0m\u001b[0mimag\u001b[0m\u001b[0;34m,\u001b[0m \u001b[0mx\u001b[0m\u001b[0;34m.\u001b[0m\u001b[0mimag\u001b[0m\u001b[0;34m)\u001b[0m\u001b[0;34m\u001b[0m\u001b[0m\n\u001b[1;32m   2128\u001b[0m             \u001b[0;32melse\u001b[0m\u001b[0;34m:\u001b[0m\u001b[0;34m\u001b[0m\u001b[0m\n\u001b[0;32m-> 2129\u001b[0;31m                 \u001b[0msqnorm\u001b[0m \u001b[0;34m=\u001b[0m \u001b[0mdot\u001b[0m\u001b[0;34m(\u001b[0m\u001b[0mx\u001b[0m\u001b[0;34m,\u001b[0m \u001b[0mx\u001b[0m\u001b[0;34m)\u001b[0m\u001b[0;34m\u001b[0m\u001b[0m\n\u001b[0m\u001b[1;32m   2130\u001b[0m             \u001b[0mret\u001b[0m \u001b[0;34m=\u001b[0m \u001b[0msqrt\u001b[0m\u001b[0;34m(\u001b[0m\u001b[0msqnorm\u001b[0m\u001b[0;34m)\u001b[0m\u001b[0;34m\u001b[0m\u001b[0m\n\u001b[1;32m   2131\u001b[0m             \u001b[0;32mif\u001b[0m \u001b[0mkeepdims\u001b[0m\u001b[0;34m:\u001b[0m\u001b[0;34m\u001b[0m\u001b[0m\n",
      "\u001b[0;31mKeyboardInterrupt\u001b[0m: "
     ]
    }
   ],
   "source": [
    "#!/usr/bin/env python\n",
    "\"\"\"\n",
    "Created on Thu Nov 24 22:59:34 2016\n",
    "\n",
    "@author: Admin\n",
    "\"\"\"\n",
    "from __future__ import division\n",
    "import numpy as np \n",
    "from mpl_toolkits.mplot3d import Axes3D\n",
    "import matplotlib.pyplot as plt\n",
    "\n",
    "from Verlet_main_MG import *\n",
    "\n",
    "plt.close('all')\n",
    "\n",
    "Position = np.zeros((Ns,len(P),3))\n",
    "Acceleration = np.zeros((Ns,len(P)))\n",
    "Energy = np.zeros((Ns,len(P)))\n",
    "Esum = np.zeros((Ng,len(P)))\n",
    "Time = np.zeros(len(P))\n",
    "\n",
    "for j in range(len(P)):\n",
    "    O = np.zeros(Ng+1)\n",
    "    for k in range(Ng): \n",
    "        for i in range(Ns):\n",
    "            O[k] = O[k-1] + N[k]\n",
    "            Position[i][j,:] = P[j][i,:] \n",
    "            Acceleration[i,j] = A[j][i]\n",
    "            Energy[i,j] = E[j][i]\n",
    "            Esum[k,j] = np.sum(E[j][O[k-1]:O[k]])\n",
    "            Time[j] = T[j]\n",
    "    \n",
    "        \n",
    "fig = plt.figure(1)\n",
    "ax = fig.add_subplot(111, projection='3d')          \n",
    "        \n",
    "for i in range(Ns):    \n",
    "    plt.plot(Position[i][:,0],Position[i][:,1],Position[i][:,2]) \n",
    "\n",
    "plt.xlabel(\"x\")\n",
    "plt.legend(loc = 'best')\n",
    "\n",
    "plt.figure()\n",
    "\n",
    "for i in range(Ns):    \n",
    "    j = i + 1\n",
    "    plt.plot(Position[i][:,0],Position[i][:,1])\n",
    "    \n",
    "plt.ylabel(r'Distance $(AU)$')\n",
    "plt.xlabel(r'Distance $(AU)$')\n",
    "plt.savefig('Graph of 2D MG.png', bbox_inches='tight') \n",
    "plt.legend(loc = 'best')\n",
    "\n",
    "\n",
    "O = np.zeros(Ng+1)\n",
    "\n",
    "for k in range(Ng):\n",
    "    plt.figure()\n",
    "    for i in range(int(N[k])):\n",
    "        O[k] = O[k-1] + N[k]\n",
    "        i = i + O[k-1] \n",
    "        \n",
    "        j = i + 1\n",
    "        \n",
    "        plt.plot(T, (Energy[i,:]/Esum[k,:]), label = 'star %s' % j)\n",
    "    plt.xlabel(\"Time (yrs)\")     \n",
    "    plt.legend(loc = 'best')\n",
    "    \n",
    "plt.savefig('Graph of Energy MG.png', bbox_inches='tight')\n",
    "\n",
    "\n",
    "plt.figure()\n",
    "\n",
    "for i in range(Ns):  \n",
    "    j = i + 1    \n",
    "    \n",
    "    plt.plot(T, Acceleration[i,:])\n",
    "\n",
    "plt.legend(loc = 'best')\n",
    "\n",
    "\n",
    "plt.show()\n",
    "\n",
    "T_max = np.max(dT) \n",
    "T_min = np.min(dT)\n",
    "T_Ratio = T_max/T_min\n"
   ]
  },
  {
   "cell_type": "code",
   "execution_count": null,
   "metadata": {
    "collapsed": true
   },
   "outputs": [],
   "source": []
  }
 ],
 "metadata": {
  "kernelspec": {
   "display_name": "Python [conda env:py27]",
   "language": "python",
   "name": "conda-env-py27-py"
  },
  "language_info": {
   "codemirror_mode": {
    "name": "ipython",
    "version": 2
   },
   "file_extension": ".py",
   "mimetype": "text/x-python",
   "name": "python",
   "nbconvert_exporter": "python",
   "pygments_lexer": "ipython2",
   "version": "2.7.12"
  }
 },
 "nbformat": 4,
 "nbformat_minor": 1
}
